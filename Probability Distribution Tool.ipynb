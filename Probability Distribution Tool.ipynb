{
 "cells": [
  {
   "cell_type": "code",
   "execution_count": 1,
   "metadata": {},
   "outputs": [],
   "source": [
    "#Load libraries\n",
    "%matplotlib inline\n",
    "\n",
    "import matplotlib\n",
    "import scipy.special\n",
    "import scipy.stats as st\n",
    "import numpy as np\n",
    "import pandas as pd\n",
    "import matplotlib.pyplot as plt \n",
    "import math as m\n",
    "from sklearn.model_selection import train_test_split\n",
    "import random as rd"
   ]
  },
  {
   "cell_type": "markdown",
   "metadata": {},
   "source": [
    "# Probability Distribution Tool"
   ]
  },
  {
   "cell_type": "markdown",
   "metadata": {},
   "source": [
    "The purpose of this tool is to select an appropriate probability distribution and produce appropriate probability distribution diagnostics. The tool cycles through the following steps:\n",
    "<br>\n",
    "- Take an input data set, in the form of an array, an select a probability distribution from either the normal, binomial or poisson distributions\n",
    "<br>   \n",
    "- For the binomial and poisson distributions produce the probability for a specific success rate\n",
    "<br>\n",
    "- Produce diagnostics including calculated distribution parameters\n",
    "<br>\n",
    "<br>\n",
    "At the end of the notebook is the simulation of three different input data sets - one for each probability distribution.\n",
    "    "
   ]
  },
  {
   "cell_type": "markdown",
   "metadata": {},
   "source": [
    "# Probability distribution functions"
   ]
  },
  {
   "cell_type": "code",
   "execution_count": 2,
   "metadata": {},
   "outputs": [],
   "source": [
    "def normal_diagnostics (data,sigma,mu,max_sigma):\n",
    "    print('Normal distribution diagnostics:')\n",
    "    z_scores = []\n",
    "    for i in data: # calculate z_scores for each number in list\n",
    "        z_score = abs((i-mu)/sigma)\n",
    "        z_scores.append(z_score)\n",
    "    for i in range(1,max_sigma):\n",
    "        sigma_percent = 0\n",
    "        sigma_new = i \n",
    "        for i in z_scores:\n",
    "            if i < sigma_new:\n",
    "                sigma_percent += 1\n",
    "        print('Sigma',sigma_new,'-',100*(sigma_percent/25),'%')"
   ]
  },
  {
   "cell_type": "code",
   "execution_count": 3,
   "metadata": {},
   "outputs": [],
   "source": [
    "def binomial_function (p,n,k): # feed number of trials, choose k and probability of p \n",
    "    comb = m.factorial(n)/(m.factorial(k)*m.factorial((n-k)))\n",
    "    binomial = comb*p**k*(1-p)**(n-k)\n",
    "    return binomial"
   ]
  },
  {
   "cell_type": "code",
   "execution_count": 4,
   "metadata": {},
   "outputs": [],
   "source": [
    "def negbinomial_function (p,n,k): # feed number of trials, choose k and probability of p \n",
    "    comb = m.factorial((n-1))/(m.factorial((k-1))*m.factorial((n-k)))\n",
    "    negbinomial = comb*p**k*(1-p)**(n-k)\n",
    "    return negbinomial"
   ]
  },
  {
   "cell_type": "code",
   "execution_count": 5,
   "metadata": {},
   "outputs": [],
   "source": [
    "def poisson_function (lbda,k):\n",
    "    prob_2 = (lbda**k*np.exp(-lbda))/m.factorial(k)\n",
    "    return prob_2"
   ]
  },
  {
   "cell_type": "markdown",
   "metadata": {},
   "source": [
    "# Tool"
   ]
  },
  {
   "cell_type": "code",
   "execution_count": 6,
   "metadata": {},
   "outputs": [],
   "source": [
    "def distribution_function(input_data):\n",
    "    plt.hist(input_data)\n",
    "    print('Mean:',np.mean(input_data))\n",
    "    print('Sigma_1:',np.std(input_data))\n",
    "    plt.show()\n",
    "# Count number of items in array\n",
    "    x = 0\n",
    "    for i in input_data:\n",
    "        x += 1\n",
    "# Input array is 1 then poisson\n",
    "    if x == 1:\n",
    "        mu = sum(input_data)\n",
    "        sigma = np.sqrt(mu)\n",
    "        print('The poisson distribution has been selected')\n",
    "        k_successes = input('Enter k successes: ')\n",
    "        print('______________________________________________________________________________________')\n",
    "        print('')\n",
    "        print('Diagnostics:')\n",
    "        print('Distribution selected: Poisson')\n",
    "        print('The probability of',k_successes,'successes is:',poisson_function(sum(input_data),int(k_successes)))\n",
    "        print('The mean is:',mu)\n",
    "        print('The standard deviation is:',sigma)\n",
    "# Input array contains 0s and 1s then binomial\n",
    "    elif max(input_data) == 1:\n",
    "        print('The binomial distribution has been selected:')\n",
    "        k_successes = input('Enter k successes: ')\n",
    "        n = input('Enter n trials: ')\n",
    "        prob = sum(input_data)/x\n",
    "        mu = int(n)*prob\n",
    "        sigma = np.sqrt(int(n)*prob*(1-prob))\n",
    "        print('______________________________________________________________________________________')\n",
    "        print('')\n",
    "        print('Diagnostics:')\n",
    "        print('Distribution selected: Binomial')\n",
    "        print('The probability of a success on a given trial is:', prob)\n",
    "        print('The probability of',k_successes,'occurences is:',binomial_function(prob,int(n),int(k_successes)))\n",
    "        print('The mean is:',mu)\n",
    "        print('The standard deviation is:',sigma)\n",
    "# Input array is integers then normal distribution\n",
    "    else: \n",
    "        mu = np.mean(input_data)\n",
    "        sigma = np.std(input_data)\n",
    "        print('______________________________________________________________________________________')\n",
    "        print('')\n",
    "        print('Diagnostics:')\n",
    "        print('Distribution selected: Normal Distribution')\n",
    "        print('The mean is:',mu)\n",
    "        print('The standard deviation is:',sigma)"
   ]
  },
  {
   "cell_type": "markdown",
   "metadata": {},
   "source": [
    "# Poisson simulation"
   ]
  },
  {
   "cell_type": "code",
   "execution_count": 7,
   "metadata": {},
   "outputs": [
    {
     "name": "stdout",
     "output_type": "stream",
     "text": [
      "Mean: 5.0\n",
      "Sigma_1: 0.0\n"
     ]
    },
    {
     "data": {
      "image/png": "[encoded data removed]",
      "text/plain": [
       "<matplotlib.figure.Figure at 0x1be0bf6acc0>"
      ]
     },
     "metadata": {},
     "output_type": "display_data"
    },
    {
     "name": "stdout",
     "output_type": "stream",
     "text": [
      "The poisson distribution has been selected\n",
      "Enter k successes: 10\n",
      "______________________________________________________________________________________\n",
      "\n",
      "Diagnostics:\n",
      "Distribution selected: Poisson\n",
      "The probability of 10 successes is: 0.01813278870782187\n",
      "The mean is: 5\n",
      "The standard deviation is: 2.23606797749979\n"
     ]
    }
   ],
   "source": [
    "array = np.random.randint(0,10,1)\n",
    "distribution_function(array)"
   ]
  },
  {
   "cell_type": "markdown",
   "metadata": {},
   "source": [
    "# Binomial simulation"
   ]
  },
  {
   "cell_type": "code",
   "execution_count": 8,
   "metadata": {},
   "outputs": [
    {
     "name": "stdout",
     "output_type": "stream",
     "text": [
      "Mean: 0.49\n",
      "Sigma_1: 0.4998999899979995\n"
     ]
    },
    {
     "data": {
      "image/png": "[encoded data removed]",
      "text/plain": [
       "<matplotlib.figure.Figure at 0x1be0bf6ab70>"
      ]
     },
     "metadata": {},
     "output_type": "display_data"
    },
    {
     "name": "stdout",
     "output_type": "stream",
     "text": [
      "The binomial distribution has been selected:\n",
      "Enter k successes: 10\n",
      "Enter n trials: 20\n",
      "______________________________________________________________________________________\n",
      "\n",
      "Diagnostics:\n",
      "Distribution selected: Binomial\n",
      "The probability of a success on a given trial is: 0.49\n",
      "The probability of 10 occurences is: 0.17549353106047313\n",
      "The mean is: 9.8\n",
      "The standard deviation is: 2.235620719173984\n"
     ]
    }
   ],
   "source": [
    "array = np.random.randint(0,2,100)\n",
    "distribution_function(array)"
   ]
  },
  {
   "cell_type": "markdown",
   "metadata": {},
   "source": [
    "# Normal Distribution Simulation"
   ]
  },
  {
   "cell_type": "code",
   "execution_count": 9,
   "metadata": {},
   "outputs": [
    {
     "name": "stdout",
     "output_type": "stream",
     "text": [
      "Mean: 25.43\n",
      "Sigma_1: 14.86489488694757\n"
     ]
    },
    {
     "data": {
      "image/png": "[encoded data removed]",
      "text/plain": [
       "<matplotlib.figure.Figure at 0x1be0c0f8cf8>"
      ]
     },
     "metadata": {},
     "output_type": "display_data"
    },
    {
     "name": "stdout",
     "output_type": "stream",
     "text": [
      "______________________________________________________________________________________\n",
      "\n",
      "Diagnostics:\n",
      "Distribution selected: Normal Distribution\n",
      "The mean is: 25.43\n",
      "The standard deviation is: 14.86489488694757\n"
     ]
    }
   ],
   "source": [
    "array = np.random.randint(0,50,100)\n",
    "distribution_function(array)"
   ]
  },
  {
   "cell_type": "code",
   "execution_count": null,
   "metadata": {},
   "outputs": [],
   "source": []
  }
 ],
 "metadata": {
  "kernelspec": {
   "display_name": "Python 3",
   "language": "python",
   "name": "python3"
  },
  "language_info": {
   "codemirror_mode": {
    "name": "ipython",
    "version": 3
   },
   "file_extension": ".py",
   "mimetype": "text/x-python",
   "name": "python",
   "nbconvert_exporter": "python",
   "pygments_lexer": "ipython3",
   "version": "3.6.4"
  }
 },
 "nbformat": 4,
 "nbformat_minor": 2
}
